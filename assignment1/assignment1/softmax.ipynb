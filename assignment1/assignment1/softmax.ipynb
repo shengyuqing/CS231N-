{
 "cells": [
  {
   "cell_type": "markdown",
   "metadata": {},
   "source": [
    "# Softmax exercise\n",
    "\n",
    "*Complete and hand in this completed worksheet (including its outputs and any supporting code outside of the worksheet) with your assignment submission. For more details see the [assignments page](http://vision.stanford.edu/teaching/cs231n/assignments.html) on the course website.*\n",
    "\n",
    "This exercise is analogous to the SVM exercise. You will:\n",
    "\n",
    "- implement a fully-vectorized **loss function** for the Softmax classifier\n",
    "- implement the fully-vectorized expression for its **analytic gradient**\n",
    "- **check your implementation** with numerical gradient\n",
    "- use a validation set to **tune the learning rate and regularization** strength\n",
    "- **optimize** the loss function with **SGD**\n",
    "- **visualize** the final learned weights\n"
   ]
  },
  {
   "cell_type": "code",
   "execution_count": 2,
   "metadata": {
    "collapsed": false
   },
   "outputs": [],
   "source": [
    "import random\n",
    "import numpy as np\n",
    "from cs231n.data_utils import load_CIFAR10\n",
    "import matplotlib.pyplot as plt\n",
    "%matplotlib inline\n",
    "plt.rcParams['figure.figsize'] = (10.0, 8.0) # set default size of plots\n",
    "plt.rcParams['image.interpolation'] = 'nearest'\n",
    "plt.rcParams['image.cmap'] = 'gray'\n",
    "\n",
    "# for auto-reloading extenrnal modules\n",
    "# see http://stackoverflow.com/questions/1907993/autoreload-of-modules-in-ipython\n",
    "%load_ext autoreload\n",
    "%autoreload 2"
   ]
  },
  {
   "cell_type": "code",
   "execution_count": null,
   "metadata": {
    "collapsed": false
   },
   "outputs": [],
   "source": [
    "def get_CIFAR10_data(num_training=49000, num_validation=1000, num_test=1000, num_dev=500):\n",
    "  \"\"\"\n",
    "  Load the CIFAR-10 dataset from disk and perform preprocessing to prepare\n",
    "  it for the linear classifier. These are the same steps as we used for the\n",
    "  SVM, but condensed to a single function.  \n",
    "  \"\"\"\n",
    "  # Load the raw CIFAR-10 data\n",
    "  cifar10_dir = 'E:\\cs231N_assignment\\cifar-10-batches-py'\n",
    "  X_train, y_train, X_test, y_test = load_CIFAR10(cifar10_dir)\n",
    "  \n",
    "  # subsample the data\n",
    "  mask = range(num_training, num_training + num_validation)\n",
    "  X_val = X_train[mask]\n",
    "  y_val = y_train[mask]\n",
    "  mask = range(num_training)\n",
    "  X_train = X_train[mask]\n",
    "  y_train = y_train[mask]\n",
    "  mask = range(num_test)\n",
    "  X_test = X_test[mask]\n",
    "  y_test = y_test[mask]\n",
    "  mask = np.random.choice(num_training, num_dev, replace=False)\n",
    "  X_dev = X_train[mask]\n",
    "  y_dev = y_train[mask]\n",
    "  \n",
    "  # Preprocessing: reshape the image data into rows\n",
    "  X_train = np.reshape(X_train, (X_train.shape[0], -1))\n",
    "  X_val = np.reshape(X_val, (X_val.shape[0], -1))\n",
    "  X_test = np.reshape(X_test, (X_test.shape[0], -1))\n",
    "  X_dev = np.reshape(X_dev, (X_dev.shape[0], -1))\n",
    "  \n",
    "  # Normalize the data: subtract the mean image\n",
    "  mean_image = np.mean(X_train, axis = 0)\n",
    "  X_train -= mean_image\n",
    "  X_val -= mean_image\n",
    "  X_test -= mean_image\n",
    "  X_dev -= mean_image\n",
    "  \n",
    "  # add bias dimension and transform into columns\n",
    "  X_train = np.hstack([X_train, np.ones((X_train.shape[0], 1))])\n",
    "  X_val = np.hstack([X_val, np.ones((X_val.shape[0], 1))])\n",
    "  X_test = np.hstack([X_test, np.ones((X_test.shape[0], 1))])\n",
    "  X_dev = np.hstack([X_dev, np.ones((X_dev.shape[0], 1))])\n",
    "  \n",
    "  return X_train, y_train, X_val, y_val, X_test, y_test, X_dev, y_dev\n",
    "\n",
    "\n",
    "# Invoke the above function to get our data.\n",
    "X_train, y_train, X_val, y_val, X_test, y_test, X_dev, y_dev = get_CIFAR10_data()\n",
    "print 'Train data shape: ', X_train.shape\n",
    "print 'Train labels shape: ', y_train.shape\n",
    "print 'Validation data shape: ', X_val.shape\n",
    "print 'Validation labels shape: ', y_val.shape\n",
    "print 'Test data shape: ', X_test.shape\n",
    "print 'Test labels shape: ', y_test.shape\n",
    "print 'dev data shape: ', X_dev.shape\n",
    "print 'dev labels shape: ', y_dev.shape"
   ]
  },
  {
   "cell_type": "markdown",
   "metadata": {},
   "source": [
    "## Softmax Classifier\n",
    "\n",
    "Your code for this section will all be written inside **cs231n/classifiers/softmax.py**. \n"
   ]
  },
  {
   "cell_type": "code",
   "execution_count": 4,
   "metadata": {
    "collapsed": false
   },
   "outputs": [
    {
     "name": "stdout",
     "output_type": "stream",
     "text": [
      "loss: 2.380444\n",
      "sanity check: 2.302585\n"
     ]
    }
   ],
   "source": [
    "# First implement the naive softmax loss function with nested loops.\n",
    "# Open the file cs231n/classifiers/softmax.py and implement the\n",
    "# softmax_loss_naive function.\n",
    "\n",
    "from cs231n.classifiers.softmax import softmax_loss_naive\n",
    "import time\n",
    "\n",
    "# Generate a random softmax weight matrix and use it to compute the loss.\n",
    "W = np.random.randn(3073, 10) * 0.0001\n",
    "loss, grad = softmax_loss_naive(W, X_dev, y_dev, 0.0)\n",
    "\n",
    "# As a rough sanity check, our loss should be something close to -log(0.1).\n",
    "print 'loss: %f' % loss\n",
    "print 'sanity check: %f' % (-np.log(0.1))"
   ]
  },
  {
   "cell_type": "markdown",
   "metadata": {},
   "source": [
    "## Inline Question 1:\n",
    "Why do we expect our loss to be close to -log(0.1)? Explain briefly.**\n",
    "\n",
    "**Your answer:** *Fill this in*\n"
   ]
  },
  {
   "cell_type": "code",
   "execution_count": 59,
   "metadata": {
    "collapsed": false
   },
   "outputs": [
    {
     "name": "stdout",
     "output_type": "stream",
     "text": [
      "numerical: -5.717807 analytic: -5.717807, relative error: 7.739164e-10\n",
      "numerical: 5.332805 analytic: 5.332805, relative error: 1.045699e-08\n",
      "numerical: -2.376738 analytic: -2.376738, relative error: 2.670225e-08\n",
      "numerical: -1.541159 analytic: -1.541159, relative error: 1.029358e-08\n",
      "numerical: -0.563105 analytic: -0.563105, relative error: 3.705677e-09\n",
      "numerical: 1.858771 analytic: 1.858771, relative error: 3.001155e-08\n",
      "numerical: 2.851447 analytic: 2.851447, relative error: 8.739422e-09\n",
      "numerical: 1.587073 analytic: 1.587072, relative error: 4.138208e-08\n",
      "numerical: -0.095782 analytic: -0.095782, relative error: 7.571064e-08\n",
      "numerical: -2.108647 analytic: -2.108647, relative error: 3.902014e-09\n",
      "numerical: -2.872696 analytic: -2.872696, relative error: 5.182478e-08\n",
      "numerical: -1.941271 analytic: -1.941271, relative error: 3.840556e-08\n",
      "numerical: 1.361390 analytic: 1.361390, relative error: 1.551425e-08\n",
      "numerical: 1.408615 analytic: 1.408614, relative error: 5.569820e-08\n",
      "numerical: -1.077607 analytic: -1.077607, relative error: 6.747832e-09\n",
      "numerical: -0.557954 analytic: -0.557954, relative error: 3.144167e-08\n",
      "numerical: 3.687416 analytic: 3.687416, relative error: 1.685418e-08\n",
      "numerical: 1.874346 analytic: 1.874346, relative error: 8.033785e-09\n",
      "numerical: 2.045356 analytic: 2.045356, relative error: 2.147462e-08\n",
      "numerical: 3.904181 analytic: 3.904180, relative error: 2.732035e-08\n"
     ]
    }
   ],
   "source": [
    "# Complete the implementation of softmax_loss_naive and implement a (naive)\n",
    "# version of the gradient that uses nested loops.\n",
    "loss, grad = softmax_loss_naive(W, X_dev, y_dev, 0.0)\n",
    "\n",
    "# As we did for the SVM, use numeric gradient checking as a debugging tool.\n",
    "# The numeric gradient should be close to the analytic gradient.\n",
    "from cs231n.gradient_check import grad_check_sparse\n",
    "f = lambda w: softmax_loss_naive(w, X_dev, y_dev, 0.0)[0]\n",
    "grad_numerical = grad_check_sparse(f, W, grad, 10)\n",
    "\n",
    "# similar to SVM case, do another gradient check with regularization\n",
    "loss, grad = softmax_loss_naive(W, X_dev, y_dev, 1e2)\n",
    "f = lambda w: softmax_loss_naive(w, X_dev, y_dev, 1e2)[0]\n",
    "grad_numerical = grad_check_sparse(f, W, grad, 10)"
   ]
  },
  {
   "cell_type": "code",
   "execution_count": 61,
   "metadata": {
    "collapsed": false
   },
   "outputs": [
    {
     "name": "stdout",
     "output_type": "stream",
     "text": [
      "naive loss: 2.380444e+00 computed in 0.339000s\n",
      "vectorized loss: 2.380444e+00 computed in 0.023000s\n",
      "Loss difference: 0.000000\n",
      "Gradient difference: 0.000000\n"
     ]
    }
   ],
   "source": [
    "# Now that we have a naive implementation of the softmax loss function and its gradient,\n",
    "# implement a vectorized version in softmax_loss_vectorized.\n",
    "# The two versions should compute the same results, but the vectorized version should be\n",
    "# much faster.\n",
    "tic = time.time()\n",
    "loss_naive, grad_naive = softmax_loss_naive(W, X_dev, y_dev, 0.00001)\n",
    "toc = time.time()\n",
    "print 'naive loss: %e computed in %fs' % (loss_naive, toc - tic)\n",
    "\n",
    "from cs231n.classifiers.softmax import softmax_loss_vectorized\n",
    "tic = time.time()\n",
    "loss_vectorized, grad_vectorized = softmax_loss_vectorized(W, X_dev, y_dev, 0.00001)\n",
    "toc = time.time()\n",
    "print 'vectorized loss: %e computed in %fs' % (loss_vectorized, toc - tic)\n",
    "\n",
    "# As we did for the SVM, we use the Frobenius norm to compare the two versions\n",
    "# of the gradient.\n",
    "grad_difference = np.linalg.norm(grad_naive - grad_vectorized, ord='fro')\n",
    "print 'Loss difference: %f' % np.abs(loss_naive - loss_vectorized)\n",
    "print 'Gradient difference: %f' % grad_difference"
   ]
  },
  {
   "cell_type": "code",
   "execution_count": 62,
   "metadata": {
    "collapsed": false
   },
   "outputs": [
    {
     "name": "stdout",
     "output_type": "stream",
     "text": [
      "5e-06 10000.0\n",
      "iteration 0 / 700: loss 161.112346\n",
      "iteration 100 / 700: loss 1.943220\n",
      "iteration 200 / 700: loss 2.027504\n",
      "iteration 300 / 700: loss 2.156334\n",
      "iteration 400 / 700: loss 2.090784\n",
      "iteration 500 / 700: loss 2.164210\n",
      "iteration 600 / 700: loss 2.081247\n",
      "5e-06 50000.0\n",
      "iteration 0 / 700: loss 777.280958\n",
      "iteration 100 / 700: loss 2.768699\n",
      "iteration 200 / 700: loss 2.844237\n",
      "iteration 300 / 700: loss 2.293960\n",
      "iteration 400 / 700: loss 2.845181\n",
      "iteration 500 / 700: loss 2.591423\n",
      "iteration 600 / 700: loss 3.185216\n",
      "5e-06 100000.0\n",
      "iteration 0 / 700: loss 1549.329311\n",
      "iteration 100 / 700: loss 3.477519\n",
      "iteration 200 / 700: loss 4.251872\n",
      "iteration 300 / 700: loss 4.144920\n",
      "iteration 400 / 700: loss 3.164287\n",
      "iteration 500 / 700: loss 3.154125\n",
      "iteration 600 / 700: loss 3.685726\n",
      "1e-07 10000.0\n",
      "iteration 0 / 700: loss 158.795900\n",
      "iteration 100 / 700: loss 129.205453\n",
      "iteration 200 / 700: loss 105.495354\n",
      "iteration 300 / 700: loss 86.335290\n",
      "iteration 400 / 700: loss 70.952297\n",
      "iteration 500 / 700: loss 58.298124\n",
      "iteration 600 / 700: loss 47.983170\n",
      "1e-07 50000.0\n",
      "iteration 0 / 700: loss 770.861877\n",
      "iteration 100 / 700: loss 283.314161\n",
      "iteration 200 / 700: loss 104.856348\n",
      "iteration 300 / 700: loss 39.628416\n",
      "iteration 400 / 700: loss 15.870932\n",
      "iteration 500 / 700: loss 7.113239\n",
      "iteration 600 / 700: loss 3.898712\n",
      "1e-07 100000.0\n",
      "iteration 0 / 700: loss 1539.607691\n",
      "iteration 100 / 700: loss 207.421849\n",
      "iteration 200 / 700: loss 29.577125\n",
      "iteration 300 / 700: loss 5.809749\n",
      "iteration 400 / 700: loss 2.578853\n",
      "iteration 500 / 700: loss 2.216964\n",
      "iteration 600 / 700: loss 2.152387\n",
      "5e-07 10000.0\n",
      "iteration 0 / 700: loss 159.980325\n",
      "iteration 100 / 700: loss 58.406055\n",
      "iteration 200 / 700: loss 22.465427\n",
      "iteration 300 / 700: loss 9.466438\n",
      "iteration 400 / 700: loss 4.675309\n",
      "iteration 500 / 700: loss 2.937395\n",
      "iteration 600 / 700: loss 2.225928\n",
      "5e-07 50000.0\n",
      "iteration 0 / 700: loss 772.092822\n",
      "iteration 100 / 700: loss 6.882729\n",
      "iteration 200 / 700: loss 2.159105\n",
      "iteration 300 / 700: loss 2.111042\n",
      "iteration 400 / 700: loss 2.035903\n",
      "iteration 500 / 700: loss 2.072426\n",
      "iteration 600 / 700: loss 2.105775\n",
      "5e-07 100000.0\n",
      "iteration 0 / 700: loss 1560.276474\n",
      "iteration 100 / 700: loss 2.197794\n",
      "iteration 200 / 700: loss 2.139882\n",
      "iteration 300 / 700: loss 2.162159\n",
      "iteration 400 / 700: loss 2.099676\n",
      "iteration 500 / 700: loss 2.143283\n",
      "iteration 600 / 700: loss 2.153929\n",
      "lr 1.000000e-07 reg 1.000000e+04 train accuracy: 0.255388 val accuracy: 0.271000\n",
      "lr 1.000000e-07 reg 5.000000e+04 train accuracy: 0.320796 val accuracy: 0.330000\n",
      "lr 1.000000e-07 reg 1.000000e+05 train accuracy: 0.303633 val accuracy: 0.321000\n",
      "lr 5.000000e-07 reg 1.000000e+04 train accuracy: 0.373306 val accuracy: 0.377000\n",
      "lr 5.000000e-07 reg 5.000000e+04 train accuracy: 0.320122 val accuracy: 0.335000\n",
      "lr 5.000000e-07 reg 1.000000e+05 train accuracy: 0.302286 val accuracy: 0.322000\n",
      "lr 5.000000e-06 reg 1.000000e+04 train accuracy: 0.304694 val accuracy: 0.308000\n",
      "lr 5.000000e-06 reg 5.000000e+04 train accuracy: 0.204163 val accuracy: 0.193000\n",
      "lr 5.000000e-06 reg 1.000000e+05 train accuracy: 0.141245 val accuracy: 0.137000\n",
      "best validation accuracy achieved during cross-validation: 0.377000\n"
     ]
    }
   ],
   "source": [
    "# Use the validation set to tune hyperparameters (regularization strength and\n",
    "# learning rate). You should experiment with different ranges for the learning\n",
    "# rates and regularization strengths; if you are careful you should be able to\n",
    "# get a classification accuracy of over 0.35 on the validation set.\n",
    "from cs231n.classifiers import Softmax\n",
    "results = {}\n",
    "best_val = -1\n",
    "best_softmax = None\n",
    "learning_rates = [5e-6, 1e-7, 5e-7]\n",
    "regularization_strengths = [1e4, 5e4, 1e5]\n",
    "\n",
    "################################################################################\n",
    "# TODO:                                                                        #\n",
    "# Use the validation set to set the learning rate and regularization strength. #\n",
    "# This should be identical to the validation that you did for the SVM; save    #\n",
    "# the best trained softmax classifer in best_softmax.                          #\n",
    "################################################################################\n",
    "for learning_rate in learning_rates:\n",
    "    for regularization_strength in regularization_strengths:\n",
    "        print learning_rate,regularization_strength\n",
    "        softmax = Softmax()\n",
    "        softmax.train(X_train, y_train, learning_rate=learning_rate, reg=regularization_strength,\n",
    "                      num_iters=700, verbose=True)\n",
    "        y_train_pred = softmax.predict(X_train)\n",
    "        y_val_pred = softmax.predict(X_val)\n",
    "        training_accuracy = np.mean(y_train == y_train_pred)\n",
    "        validation_accuracy = np.mean(y_val == y_val_pred)\n",
    "        results[(learning_rate, regularization_strength)] = (training_accuracy, validation_accuracy)\n",
    "        \n",
    "        if validation_accuracy > best_val:\n",
    "            best_softmax = softmax\n",
    "            best_val = validation_accuracy\n",
    "            \n",
    "\n",
    "pass\n",
    "################################################################################\n",
    "#                              END OF YOUR CODE                                #\n",
    "################################################################################\n",
    "    \n",
    "# Print out results.\n",
    "for lr, reg in sorted(results):\n",
    "    train_accuracy, val_accuracy = results[(lr, reg)]\n",
    "    print 'lr %e reg %e train accuracy: %f val accuracy: %f' % (\n",
    "                lr, reg, train_accuracy, val_accuracy)\n",
    "    \n",
    "print 'best validation accuracy achieved during cross-validation: %f' % best_val"
   ]
  },
  {
   "cell_type": "code",
   "execution_count": 63,
   "metadata": {
    "collapsed": false
   },
   "outputs": [
    {
     "name": "stdout",
     "output_type": "stream",
     "text": [
      "softmax on raw pixels final test set accuracy: 0.368000\n"
     ]
    }
   ],
   "source": [
    "# evaluate on test set\n",
    "# Evaluate the best softmax on test set\n",
    "y_test_pred = best_softmax.predict(X_test)\n",
    "test_accuracy = np.mean(y_test == y_test_pred)\n",
    "print 'softmax on raw pixels final test set accuracy: %f' % (test_accuracy, )"
   ]
  },
  {
   "cell_type": "code",
   "execution_count": 64,
   "metadata": {
    "collapsed": false
   },
   "outputs": [
    {
     "data": {
      "image/png": "[encoded data removed]",
      "text/plain": [
       "<matplotlib.figure.Figure at 0x89eddd8>"
      ]
     },
     "metadata": {},
     "output_type": "display_data"
    }
   ],
   "source": [
    "# Visualize the learned weights for each class\n",
    "w = best_softmax.W[:-1,:] # strip out the bias\n",
    "w = w.reshape(32, 32, 3, 10)\n",
    "\n",
    "w_min, w_max = np.min(w), np.max(w)\n",
    "\n",
    "classes = ['plane', 'car', 'bird', 'cat', 'deer', 'dog', 'frog', 'horse', 'ship', 'truck']\n",
    "for i in xrange(10):\n",
    "  plt.subplot(2, 5, i + 1)\n",
    "  \n",
    "  # Rescale the weights to be between 0 and 255\n",
    "  wimg = 255.0 * (w[:, :, :, i].squeeze() - w_min) / (w_max - w_min)\n",
    "  plt.imshow(wimg.astype('uint8'))\n",
    "  plt.axis('off')\n",
    "  plt.title(classes[i])"
   ]
  },
  {
   "cell_type": "code",
   "execution_count": null,
   "metadata": {
    "collapsed": true
   },
   "outputs": [],
   "source": []
  }
 ],
 "metadata": {
  "kernelspec": {
   "display_name": "Python 2",
   "language": "python",
   "name": "python2"
  },
  "language_info": {
   "codemirror_mode": {
    "name": "ipython",
    "version": 2
   },
   "file_extension": ".py",
   "mimetype": "text/x-python",
   "name": "python",
   "nbconvert_exporter": "python",
   "pygments_lexer": "ipython2",
   "version": "2.7.11"
  }
 },
 "nbformat": 4,
 "nbformat_minor": 0
}
